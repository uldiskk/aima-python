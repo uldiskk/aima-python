{
 "cells": [
  {
   "attachments": {},
   "cell_type": "markdown",
   "metadata": {},
   "source": [
    "# Introduction to Reinforcement Learning\n",
    "\n",
    "This Jupyter notebook and the others in the same folder act as supporting materials for **Chapter 22 Reinforcement Learning** of the book* Artificial Intelligence: A Modern Approach*. The notebooks make use of the implementations in `reinforcement_learning4e.py` module. We also make use of the implementation of MDPs in the `mdp4e.py` module to test our agents. It might be helpful if you have already gone through the Jupyter notebook dealing with the Markov decision process. Let us import everything from the `reinforcement_learning4e` module. It might be helpful to view the source of some of our implementations."
   ]
  },
  {
   "cell_type": "code",
   "execution_count": 1,
   "metadata": {},
   "outputs": [],
   "source": [
    "import os, sys\n",
    "sys.path = [os.path.abspath(\"../../\")] + sys.path\n",
    "from reinforcement_learning4e import *"
   ]
  },
  {
   "attachments": {},
   "cell_type": "markdown",
   "metadata": {},
   "source": [
    "Before we start playing with the actual implementations let us review a couple of things about RL.\n",
    "\n",
    "1. Reinforcement Learning is concerned with how software agents ought to take actions in an environment so as to maximize some notion of cumulative reward. \n",
    "\n",
    "2. Reinforcement learning differs from standard supervised learning in that correct input/output pairs are never presented, nor sub-optimal actions explicitly corrected. Further, there is a focus on on-line performance, which involves finding a balance between exploration (of uncharted territory) and exploitation (of current knowledge).\n",
    "\n",
    "-- Source: [Wikipedia](https://en.wikipedia.org/wiki/Reinforcement_learning)\n",
    "\n",
    "In summary, we have a sequence of state action transitions with rewards associated with some states. Our goal is to find the optimal policy $\\pi$ which tells us what action to take in each state."
   ]
  },
  {
   "cell_type": "markdown",
   "metadata": {},
   "source": [
    "# Passive Reinforcement Learning\n",
    "\n",
    "In passive Reinforcement Learning the agent follows a fixed policy $\\pi$. Passive learning attempts to evaluate the given policy $pi$ - without any knowledge of the Reward function $R(s)$ and the Transition model $P(s'\\ |\\ s, a)$.\n",
    "\n",
    "This is usually done by some method of **utility estimation**. The agent attempts to directly learn the utility of each state that would result from following the policy. Note that at each step, it has to *perceive* the reward and the state - it has no global knowledge of these. Thus, if a certain the entire set of actions offers a very low probability of attaining some state $s_+$ - the agent may never perceive the reward $R(s_+)$.\n",
    "\n",
    "Consider a situation where an agent is given the policy to follow. Thus, at any point, it knows only its current state and current reward, and the action it must take next. This action may lead it to more than one state, with different probabilities.\n",
    "\n",
    "For a series of actions given by $\\pi$, the estimated utility $U$:\n",
    "$$U^{\\pi}(s) = E(\\sum_{t=0}^\\inf \\gamma^t R^t(s'))$$\n",
    "Or the expected value of summed discounted rewards until termination.\n",
    "\n",
    "Based on this concept, we discuss three methods of estimating utility: direct utility estimation, adaptive dynamic programming, and temporal-difference learning.\n",
    "\n",
    "### Implementation\n",
    "\n",
    "Passive agents are implemented in `reinforcement_learning4e.py` as various `Agent-Class`es.\n",
    "\n",
    "To demonstrate these agents, we make use of the `GridMDP` object from the `MDP` module. `sequential_decision_7x6_environment` is similar to that used for the `MDP` notebook but has discounting with $\\gamma = 0.9$ and a 7x6 environment.\n",
    "\n",
    "The `Agent-Program` can be obtained by creating an instance of the relevant `Agent-Class`. The `__call__` method allows the `Agent-Class` to be called as a function. The class needs to be instantiated with a policy ($\\pi$) and an `MDP` whose utility of states will be estimated.\n"
   ]
  },
  {
   "cell_type": "code",
   "execution_count": 2,
   "metadata": {},
   "outputs": [],
   "source": [
    "from mdp4e import sequential_decision_7x6_environment"
   ]
  },
  {
   "cell_type": "markdown",
   "metadata": {},
   "source": [
    "<img src=\"images/grid_mdp_4x7.jpg\">  "
   ]
  },
  {
   "cell_type": "markdown",
   "metadata": {},
   "source": [
    "The `sequential_decision_7x6_environment` is a GridMDP object.\n",
    "The rewards are **+1** and **-1** in the terminal states, and **-0.04** in the rest. Now we define actions and a policy similar to **Fig 22.1** in the book."
   ]
  },
  {
   "cell_type": "code",
   "execution_count": 3,
   "metadata": {},
   "outputs": [],
   "source": [
    "# Action Directions\n",
    "to_north = (0, 1)\n",
    "to_south = (0,-1)\n",
    "to_west = (-1, 0)\n",
    "to_east = (1, 0)\n",
    "\n",
    "policy = {\n",
    "    (0, 5): to_east,  (1, 5): to_east,  (2, 5): to_south,                 (4, 5): to_east,  (5, 5): to_east,    (6, 5): None,\n",
    "    (0, 4): to_east,  (1, 4): to_east,  (2, 4): to_east, (3, 4): to_east, (4, 4): to_north,  (5, 4): to_north,  (6, 4): to_north,\n",
    "    (0, 3): to_east,  (1, 3): to_east,  (2, 3): to_east, (3, 3): to_east, (4, 3): to_north,  (5, 3): to_north,  (6, 3): None,\n",
    "    (0, 2): to_east,  (1, 2): to_east,  (2, 2): to_east, (3, 2): to_north, (4, 2): to_north,  (5, 2): to_north,  (6, 2): to_west,\n",
    "    (0, 1): to_north,                   (2, 1): to_north,(3, 1): to_north, (4, 1): to_north,  (5, 1): to_north,  (6, 1): to_north,\n",
    "    (0, 0): to_north, (1, 0): to_west,  (2, 0): to_north,(3, 0): to_north, (4, 0): to_north,  (5, 0): to_north,  (6, 0): to_north,\n",
    "}\n",
    "# (1, 1) and (3, 5) are blocks"
   ]
  },
  {
   "attachments": {},
   "cell_type": "markdown",
   "metadata": {},
   "source": [
    "This enviroment will be extensively used in the following demonstrations."
   ]
  },
  {
   "attachments": {},
   "cell_type": "markdown",
   "metadata": {},
   "source": [
    "## Direct Utility Estimation (DUE)\n",
    " \n",
    " The first, most naive method of estimating utility comes from the simplest interpretation of the above definition. We construct an agent that follows the policy until it reaches the terminal state. At each step, it logs its current state, reward. Once it reaches the terminal state, it can estimate the utility for each state for *that* iteration, by simply summing the discounted rewards from that state to the terminal one.\n",
    "\n",
    " It can now run this 'simulation' $n$ times and calculate the average utility of each state. If a state occurs more than once in a simulation, both its utility values are counted separately.\n",
    " \n",
    " Note that this method may be prohibitively slow for very large state-spaces. Besides, **it pays no attention to the transition probability $P(s'\\ |\\ s, a)$.** It misses out on information that it is capable of collecting (say, by recording the number of times an action from one state led to another state). The next method addresses this issue.\n",
    " \n",
    "### Examples\n",
    "\n",
    "The `PassiveDEUAgent` class in the `reinforcement_learning4e` module implements the Agent Program described in **Fig 22.1** of the AIMA Book. `PassiveDEUAgent` sums over rewards to find the estimated utility for each state. It thus requires the running of several iterations."
   ]
  },
  {
   "cell_type": "code",
   "execution_count": 4,
   "metadata": {},
   "outputs": [],
   "source": [
    "#%psource PassiveDUEAgent"
   ]
  },
  {
   "attachments": {},
   "cell_type": "markdown",
   "metadata": {},
   "source": [
    "Now let's try the `PassiveDEUAgent` on the newly defined `sequential_decision_7x6_environment`:"
   ]
  },
  {
   "cell_type": "code",
   "execution_count": 5,
   "metadata": {},
   "outputs": [],
   "source": [
    "DUEagent = PassiveDUEAgent(policy, sequential_decision_7x6_environment)"
   ]
  },
  {
   "attachments": {},
   "cell_type": "markdown",
   "metadata": {},
   "source": [
    "We can try passing information through the markove model for 200 times in order to get the converged utility value:"
   ]
  },
  {
   "cell_type": "code",
   "execution_count": 6,
   "metadata": {},
   "outputs": [],
   "source": [
    "for i in range(200):\n",
    "    run_single_trial(DUEagent, sequential_decision_7x6_environment)\n",
    "    DUEagent.estimate_U()"
   ]
  },
  {
   "attachments": {},
   "cell_type": "markdown",
   "metadata": {},
   "source": [
    "Now let's print our estimated utility for each position:"
   ]
  },
  {
   "cell_type": "code",
   "execution_count": 7,
   "metadata": {},
   "outputs": [
    {
     "name": "stdout",
     "output_type": "stream",
     "text": [
      "(0, 0):0.4236075354636989\n",
      "(0, 1):0.5019492867686104\n",
      "(0, 2):0.5486189416774652\n",
      "(0, 3):0.6351350402832031\n",
      "(0, 4):0.6799999999999999\n",
      "(1, 0):0.25489786307017\n",
      "(1, 2):0.5947449797423456\n",
      "(1, 3):0.6825157148111611\n",
      "(1, 4):0.6100000000000001\n",
      "(1, 5):0.54\n",
      "(2, 1):0.515815814336141\n",
      "(2, 2):0.6350577908865893\n",
      "(2, 3):0.7003470823921986\n",
      "(2, 4):0.7093750000000001\n",
      "(2, 5):0.7\n",
      "(3, 1):0.63\n",
      "(3, 2):0.6748127730419262\n",
      "(3, 3):0.7192622961048641\n",
      "(3, 4):0.824402309002987\n",
      "(4, 2):0.6483405303955079\n",
      "(4, 3):0.748238272517107\n",
      "(4, 4):0.8107439163297334\n",
      "(4, 5):0.8202581627145792\n",
      "(5, 2):0.78\n",
      "(5, 3):-0.16917236328125002\n",
      "(5, 4):0.9068707057727405\n",
      "(5, 5):0.928554663508546\n",
      "(6, 3):-1.0\n",
      "(6, 4):0.95875\n",
      "(6, 5):1.0\n"
     ]
    }
   ],
   "source": [
    "sorted_dict = dict(sorted(DUEagent.U.items()))\n",
    "print('\\n'.join([str(k)+':'+str(v) for k, v in sorted_dict.items()]))"
   ]
  },
  {
   "cell_type": "code",
   "execution_count": 8,
   "metadata": {},
   "outputs": [
    {
     "name": "stdout",
     "output_type": "stream",
     "text": [
      "(6, 3):-1.0\n",
      "(5, 3):-0.16917236328125002\n",
      "(1, 0):0.25489786307017\n",
      "(0, 0):0.4236075354636989\n",
      "(0, 1):0.5019492867686104\n",
      "(2, 1):0.515815814336141\n",
      "(1, 5):0.54\n",
      "(0, 2):0.5486189416774652\n",
      "(1, 2):0.5947449797423456\n",
      "(1, 4):0.6100000000000001\n",
      "(3, 1):0.63\n",
      "(2, 2):0.6350577908865893\n",
      "(0, 3):0.6351350402832031\n",
      "(4, 2):0.6483405303955079\n",
      "(3, 2):0.6748127730419262\n",
      "(0, 4):0.6799999999999999\n",
      "(1, 3):0.6825157148111611\n",
      "(2, 5):0.7\n",
      "(2, 3):0.7003470823921986\n",
      "(2, 4):0.7093750000000001\n",
      "(3, 3):0.7192622961048641\n",
      "(4, 3):0.748238272517107\n",
      "(5, 2):0.78\n",
      "(4, 4):0.8107439163297334\n",
      "(4, 5):0.8202581627145792\n",
      "(3, 4):0.824402309002987\n",
      "(5, 4):0.9068707057727405\n",
      "(5, 5):0.928554663508546\n",
      "(6, 4):0.95875\n",
      "(6, 5):1.0\n"
     ]
    }
   ],
   "source": [
    "print('\\n'.join([str(k)+':'+str(v) for k, v in sorted(DUEagent.U.items(), key=lambda item: item[1])]))"
   ]
  },
  {
   "attachments": {},
   "cell_type": "markdown",
   "metadata": {},
   "source": [
    "## Adaptive Dynamic Programming (ADP)\n",
    " \n",
    " This method makes use of knowledge of the past state $s$, the action $a$, and the new perceived state $s'$ to estimate the transition probability $P(s'\\ |\\ s,a)$. It does this by the simple counting of new states resulting from previous states and actions.<br> \n",
    " The program runs through the policy a number of times, keeping track of:\n",
    "    - each occurrence of state $s$ and the policy-recommended action $a$ in $N_{sa}$\n",
    "    - each occurrence of $s'$ resulting from $a$ on $s$ in $N_{s'|sa}$.\n",
    "     \n",
    " It can thus estimate $P(s'\\ |\\ s,a)$ as $N_{s'|sa}/N_{sa}$, which in the limit of infinite trials, will converge to the true value.<br>\n",
    " Using the transition probabilities thus estimated, it can apply `POLICY-EVALUATION` to estimate the utilities $U(s)$ using properties of convergence of the Bellman functions.\n",
    " \n",
    "### Examples\n",
    "\n",
    "The `PassiveADPAgent` class in the `rl` module implements the Agent Program described in **Fig 22.2** of the AIMA Book. `PassiveADPAgent` uses state transition and occurrence counts to estimate $P$, and then $U$. Go through the source below to understand the agent."
   ]
  },
  {
   "cell_type": "code",
   "execution_count": 9,
   "metadata": {},
   "outputs": [],
   "source": [
    "#%psource PassiveADPAgent"
   ]
  },
  {
   "attachments": {},
   "cell_type": "markdown",
   "metadata": {},
   "source": [
    "We instantiate a `PassiveADPAgent` below with the `GridMDP` shown and train it for 200 steps. The `rl` module has a simple implementation to simulate a single step of the iteration. The function is called `run_single_trial`."
   ]
  },
  {
   "cell_type": "code",
   "execution_count": 10,
   "metadata": {},
   "outputs": [
    {
     "name": "stdout",
     "output_type": "stream",
     "text": [
      "Warning: Transition table is empty.\n"
     ]
    }
   ],
   "source": [
    "ADPagent = PassiveADPAgent(policy, sequential_decision_7x6_environment)\n",
    "for i in range(200):\n",
    "    run_single_trial(ADPagent, sequential_decision_7x6_environment)"
   ]
  },
  {
   "attachments": {},
   "cell_type": "markdown",
   "metadata": {},
   "source": [
    "The utilities are calculated as :"
   ]
  },
  {
   "cell_type": "code",
   "execution_count": 11,
   "metadata": {},
   "outputs": [
    {
     "name": "stdout",
     "output_type": "stream",
     "text": [
      "(0, 0):-0.07623967847925393\n",
      "(0, 1):-0.026819464027755043\n",
      "(0, 2):0.026070814424633\n",
      "(0, 3):0.0898912155585346\n",
      "(0, 4):0.13956118174593626\n",
      "(0, 5):0.0\n",
      "(1, 0):-0.11509091726010662\n",
      "(1, 2):0.08520207544443542\n",
      "(1, 3):0.14923809363558327\n",
      "(1, 4):0.19951242416776854\n",
      "(1, 5):0.1572060396703305\n",
      "(2, 0):0.0\n",
      "(2, 1):0.08676528114433374\n",
      "(2, 2):0.1453176451935049\n",
      "(2, 3):0.21493318655409463\n",
      "(2, 4):0.28790869095629196\n",
      "(2, 5):0.2191178218559228\n",
      "(3, 0):0.0\n",
      "(3, 1):0.15696301474218163\n",
      "(3, 2):0.21884779416286657\n",
      "(3, 3):0.3007460686047139\n",
      "(3, 4):0.37928397029167676\n",
      "(4, 0):0.0\n",
      "(4, 1):0.0\n",
      "(4, 2):0.3170521270289436\n",
      "(4, 3):0.40798932594936077\n",
      "(4, 4):0.5114264677843369\n",
      "(4, 5):0.6463636112746671\n",
      "(5, 0):0.0\n",
      "(5, 1):0.0\n",
      "(5, 2):0.38091858032242826\n",
      "(5, 3):0.5226408411964897\n",
      "(5, 4):0.6387294379851319\n",
      "(5, 5):0.8108590985010455\n",
      "(6, 0):0.0\n",
      "(6, 1):0.0\n",
      "(6, 2):0.3028267222879898\n",
      "(6, 3):0.0\n",
      "(6, 4):0.7064549063271298\n",
      "(6, 5):1.0\n"
     ]
    }
   ],
   "source": [
    "sorted_dict = dict(sorted(ADPagent.U.items()))\n",
    "print('\\n'.join([str(k)+':'+str(v) for k, v in sorted_dict.items()]))"
   ]
  },
  {
   "cell_type": "code",
   "execution_count": 12,
   "metadata": {},
   "outputs": [
    {
     "name": "stdout",
     "output_type": "stream",
     "text": [
      "(1, 0):-0.11509091726010662\n",
      "(0, 0):-0.07623967847925393\n",
      "(0, 1):-0.026819464027755043\n",
      "(4, 0):0.0\n",
      "(5, 1):0.0\n",
      "(0, 5):0.0\n",
      "(3, 0):0.0\n",
      "(5, 0):0.0\n",
      "(6, 1):0.0\n",
      "(4, 1):0.0\n",
      "(2, 0):0.0\n",
      "(6, 0):0.0\n",
      "(6, 3):0.0\n",
      "(0, 2):0.026070814424633\n",
      "(1, 2):0.08520207544443542\n",
      "(2, 1):0.08676528114433374\n",
      "(0, 3):0.0898912155585346\n",
      "(0, 4):0.13956118174593626\n",
      "(2, 2):0.1453176451935049\n",
      "(1, 3):0.14923809363558327\n",
      "(3, 1):0.15696301474218163\n",
      "(1, 5):0.1572060396703305\n",
      "(1, 4):0.19951242416776854\n",
      "(2, 3):0.21493318655409463\n",
      "(3, 2):0.21884779416286657\n",
      "(2, 5):0.2191178218559228\n",
      "(2, 4):0.28790869095629196\n",
      "(3, 3):0.3007460686047139\n",
      "(6, 2):0.3028267222879898\n",
      "(4, 2):0.3170521270289436\n",
      "(3, 4):0.37928397029167676\n",
      "(5, 2):0.38091858032242826\n",
      "(4, 3):0.40798932594936077\n",
      "(4, 4):0.5114264677843369\n",
      "(5, 3):0.5226408411964897\n",
      "(5, 4):0.6387294379851319\n",
      "(4, 5):0.6463636112746671\n",
      "(6, 4):0.7064549063271298\n",
      "(5, 5):0.8108590985010455\n",
      "(6, 5):1.0\n"
     ]
    }
   ],
   "source": [
    "print('\\n'.join([str(k)+':'+str(v) for k, v in sorted(ADPagent.U.items(), key=lambda item: item[1])]))"
   ]
  },
  {
   "attachments": {},
   "cell_type": "markdown",
   "metadata": {},
   "source": [
    "When comparing to the result of `PassiveDUEAgent`, they both have -1.0 for utility at (3,1) and 1.0 at (3,2). Another point to notice is that the spot with the highest utility for both agents is (2,2) beside the terminal states, which is easy to understand when referring to the map."
   ]
  },
  {
   "attachments": {},
   "cell_type": "markdown",
   "metadata": {},
   "source": [
    "## Temporal-difference learning (TD)\n",
    " \n",
    " Instead of explicitly building the transition model $P$, the temporal-difference model makes use of the expected closeness between the utilities of two consecutive states $s$ and $s'$.\n",
    " For the transition $s$ to $s'$, the update is written as:\n",
    "$$U^{\\pi}(s) \\leftarrow U^{\\pi}(s) + \\alpha \\left( R(s) + \\gamma U^{\\pi}(s') - U^{\\pi}(s) \\right)$$\n",
    " This model implicitly incorporates the transition probabilities by being weighed for each state by the number of times it is achieved from the current state. Thus, over a number of iterations, it converges similarly to the Bellman equations.\n",
    " The advantage of the TD learning model is its relatively simple computation at each step, rather than having to keep track of various counts.\n",
    " For $n_s$ states and $n_a$ actions the ADP model would have $n_s \\times n_a$ numbers $N_{sa}$ and $n_s^2 \\times n_a$ numbers $N_{s'|sa}$ to keep track of. The TD model must only keep track of a utility $U(s)$ for each state.\n",
    " \n",
    "### Examples\n",
    "\n",
    "`PassiveTDAgent` uses temporal differences to learn utility estimates. We learn the difference between the states and back up the values to previous states.  Let us look into the source before we see some usage examples."
   ]
  },
  {
   "cell_type": "code",
   "execution_count": 13,
   "metadata": {},
   "outputs": [],
   "source": [
    "#%psource PassiveTDAgent"
   ]
  },
  {
   "attachments": {},
   "cell_type": "markdown",
   "metadata": {},
   "source": [
    "In creating the `TDAgent`, we use the **same learning rate** $\\alpha$ as given in the footnote of the book: $\\alpha(n)=60/(59+n)$"
   ]
  },
  {
   "cell_type": "code",
   "execution_count": 14,
   "metadata": {},
   "outputs": [],
   "source": [
    "TDagent = PassiveTDAgent(policy, sequential_decision_7x6_environment, alpha = lambda n: 60./(59+n))"
   ]
  },
  {
   "attachments": {},
   "cell_type": "markdown",
   "metadata": {},
   "source": [
    "Now we run **200 trials** for the agent to estimate Utilities."
   ]
  },
  {
   "cell_type": "code",
   "execution_count": 15,
   "metadata": {},
   "outputs": [],
   "source": [
    "for i in range(200):\n",
    "    run_single_trial(TDagent,sequential_decision_7x6_environment)"
   ]
  },
  {
   "attachments": {},
   "cell_type": "markdown",
   "metadata": {},
   "source": [
    "The calculated utilities are:"
   ]
  },
  {
   "cell_type": "code",
   "execution_count": 16,
   "metadata": {},
   "outputs": [
    {
     "name": "stdout",
     "output_type": "stream",
     "text": [
      "(0, 0):-0.06816744339324231\n",
      "(0, 1):-0.040562528263606706\n",
      "(0, 2):-0.013493772802435557\n",
      "(0, 3):-0.05069748077431516\n",
      "(0, 4):0.17640258872909165\n",
      "(0, 5):0.0\n",
      "(1, 0):-0.12274055298989325\n",
      "(1, 2):0.08441324404957194\n",
      "(1, 3):0.08485166602673662\n",
      "(1, 4):0.10832713351599019\n",
      "(1, 5):0.1846696109053968\n",
      "(2, 0):0.0\n",
      "(2, 1):0.0669990568349042\n",
      "(2, 2):0.1374297077160365\n",
      "(2, 3):0.2456154066636996\n",
      "(2, 4):0.31538811836991154\n",
      "(2, 5):0.20878101109686703\n",
      "(3, 0):0.0\n",
      "(3, 1):0.14457846345708605\n",
      "(3, 2):0.23920553069402883\n",
      "(3, 3):0.352416704597033\n",
      "(3, 4):0.42801488656630904\n",
      "(4, 0):0.0\n",
      "(4, 1):0.0\n",
      "(4, 2):0.34481095007523177\n",
      "(4, 3):0.20316139389877338\n",
      "(4, 4):0.5327401364248504\n",
      "(4, 5):0.6519972375057037\n",
      "(5, 0):0.0\n",
      "(5, 1):0.0\n",
      "(5, 2):0.25051847776494396\n",
      "(5, 3):0.2927954280996534\n",
      "(5, 4):0.5982770886599733\n",
      "(5, 5):0.8508474454186945\n",
      "(6, 0):0.0\n",
      "(6, 1):0.0\n",
      "(6, 2):-0.10294029383053863\n",
      "(6, 3):-1\n",
      "(6, 4):0.844325539872483\n",
      "(6, 5):1\n"
     ]
    }
   ],
   "source": [
    "sorted_dict = dict(sorted(TDagent.U.items()))\n",
    "print('\\n'.join([str(k)+':'+str(v) for k, v in sorted_dict.items()]))"
   ]
  },
  {
   "cell_type": "code",
   "execution_count": 17,
   "metadata": {},
   "outputs": [
    {
     "name": "stdout",
     "output_type": "stream",
     "text": [
      "(6, 3):-1\n",
      "(1, 0):-0.12274055298989325\n",
      "(6, 2):-0.10294029383053863\n",
      "(0, 0):-0.06816744339324231\n",
      "(0, 3):-0.05069748077431516\n",
      "(0, 1):-0.040562528263606706\n",
      "(0, 2):-0.013493772802435557\n",
      "(4, 0):0.0\n",
      "(5, 1):0.0\n",
      "(0, 5):0.0\n",
      "(3, 0):0.0\n",
      "(5, 0):0.0\n",
      "(6, 1):0.0\n",
      "(4, 1):0.0\n",
      "(2, 0):0.0\n",
      "(6, 0):0.0\n",
      "(2, 1):0.0669990568349042\n",
      "(1, 2):0.08441324404957194\n",
      "(1, 3):0.08485166602673662\n",
      "(1, 4):0.10832713351599019\n",
      "(2, 2):0.1374297077160365\n",
      "(3, 1):0.14457846345708605\n",
      "(0, 4):0.17640258872909165\n",
      "(1, 5):0.1846696109053968\n",
      "(4, 3):0.20316139389877338\n",
      "(2, 5):0.20878101109686703\n",
      "(3, 2):0.23920553069402883\n",
      "(2, 3):0.2456154066636996\n",
      "(5, 2):0.25051847776494396\n",
      "(5, 3):0.2927954280996534\n",
      "(2, 4):0.31538811836991154\n",
      "(4, 2):0.34481095007523177\n",
      "(3, 3):0.352416704597033\n",
      "(3, 4):0.42801488656630904\n",
      "(4, 4):0.5327401364248504\n",
      "(5, 4):0.5982770886599733\n",
      "(4, 5):0.6519972375057037\n",
      "(6, 4):0.844325539872483\n",
      "(5, 5):0.8508474454186945\n",
      "(6, 5):1\n"
     ]
    }
   ],
   "source": [
    "print('\\n'.join([str(k)+':'+str(v) for k, v in sorted(TDagent.U.items(), key=lambda item: item[1])]))"
   ]
  },
  {
   "attachments": {},
   "cell_type": "markdown",
   "metadata": {},
   "source": [
    "When comparing to previous agents, the result of `PassiveTDAgent` is closer to `PassiveADPAgent`."
   ]
  },
  {
   "cell_type": "code",
   "execution_count": null,
   "metadata": {},
   "outputs": [],
   "source": []
  }
 ],
 "metadata": {
  "kernelspec": {
   "display_name": "Python 3 (ipykernel)",
   "language": "python",
   "name": "python3"
  },
  "language_info": {
   "codemirror_mode": {
    "name": "ipython",
    "version": 3
   },
   "file_extension": ".py",
   "mimetype": "text/x-python",
   "name": "python",
   "nbconvert_exporter": "python",
   "pygments_lexer": "ipython3",
   "version": "3.10.14"
  }
 },
 "nbformat": 4,
 "nbformat_minor": 4
}
